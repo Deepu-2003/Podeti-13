{
 "cells": [
  {
   "cell_type": "code",
   "execution_count": 1,
   "id": "617fe17f-bc14-48ed-8a9d-9d6b26c33145",
   "metadata": {},
   "outputs": [
    {
     "name": "stdin",
     "output_type": "stream",
     "text": [
      "Enter the desired password length:  Deepthi@2003\n"
     ]
    },
    {
     "name": "stdout",
     "output_type": "stream",
     "text": [
      "Invalid input. Please enter a number.\n"
     ]
    },
    {
     "name": "stdin",
     "output_type": "stream",
     "text": [
      "Enter the desired password length:  12\n"
     ]
    },
    {
     "name": "stdout",
     "output_type": "stream",
     "text": [
      "Generated Password: Nb&it\"vWU?+o\n"
     ]
    }
   ],
   "source": [
    "import random\n",
    "import string\n",
    "\n",
    "# Define the character sets\n",
    "letters = string.ascii_letters\n",
    "digits = string.digits\n",
    "special_chars = string.punctuation\n",
    "\n",
    "# Combine all character sets into one pool\n",
    "all_characters = letters + digits + special_chars\n",
    "\n",
    "# Ask the user for the desired password length\n",
    "while True:\n",
    "    try:\n",
    "        length = int(input(\"Enter the desired password length: \"))\n",
    "        if length > 0:\n",
    "            break\n",
    "        else:\n",
    "            print(\"Password length must be a positive number.\")\n",
    "    except ValueError:\n",
    "        print(\"Invalid input. Please enter a number.\")\n",
    "\n",
    "# Generate the password\n",
    "password = ''.join(random.choices(all_characters, k=length))\n",
    "\n",
    "# Print the generated password\n",
    "print(\"Generated Password:\", password)"
   ]
  },
  {
   "cell_type": "code",
   "execution_count": null,
   "id": "ee156f67-5fd2-4c75-8671-d9f8995455d9",
   "metadata": {},
   "outputs": [],
   "source": []
  }
 ],
 "metadata": {
  "kernelspec": {
   "display_name": "Python [conda env:Machinelearning]",
   "language": "python",
   "name": "conda-env-Machinelearning-py"
  },
  "language_info": {
   "codemirror_mode": {
    "name": "ipython",
    "version": 3
   },
   "file_extension": ".py",
   "mimetype": "text/x-python",
   "name": "python",
   "nbconvert_exporter": "python",
   "pygments_lexer": "ipython3",
   "version": "3.8.20"
  }
 },
 "nbformat": 4,
 "nbformat_minor": 5
}
