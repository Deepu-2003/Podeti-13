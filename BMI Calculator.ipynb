{
 "cells": [
  {
   "cell_type": "code",
   "execution_count": 1,
   "id": "1148442b-8ef0-406b-8139-5e04029619bd",
   "metadata": {},
   "outputs": [
    {
     "name": "stdin",
     "output_type": "stream",
     "text": [
      "Enter your weight in kilograms (kg):  42\n",
      "Enter your height in centimeters (cm):  5.1\n"
     ]
    },
    {
     "name": "stdout",
     "output_type": "stream",
     "text": [
      "\n",
      "Your BMI is: 16147.6\n",
      "You are in the 'Obese' category.\n"
     ]
    }
   ],
   "source": [
    "def bmi_calculator():\n",
    "    \"\"\"\n",
    "    Calculates and classifies a person's Body Mass Index (BMI).\n",
    "    \"\"\"\n",
    "    # 1. Get user input for weight and height\n",
    "    try:\n",
    "        weight = float(input(\"Enter your weight in kilograms (kg): \"))\n",
    "        height_cm = float(input(\"Enter your height in centimeters (cm): \"))\n",
    "    except ValueError:\n",
    "        print(\"Invalid input. Please enter numerical values for weight and height.\")\n",
    "        return\n",
    "\n",
    "    # Convert height from centimeters to meters\n",
    "    height_m = height_cm / 100\n",
    "\n",
    "    # 2. Calculate BMI using the formula: weight / (height * height)\n",
    "    bmi = weight / (height_m ** 2)\n",
    "\n",
    "    # Round the BMI to one decimal place for better readability\n",
    "    bmi_rounded = round(bmi, 1)\n",
    "\n",
    "    # 3. Determine the health category based on BMI\n",
    "    if bmi_rounded < 18.5:\n",
    "        category = \"Underweight\"\n",
    "    elif 18.5 <= bmi_rounded <= 24.9:\n",
    "        category = \"Normal Weight\"\n",
    "    elif 25 <= bmi_rounded <= 29.9:\n",
    "        category = \"Overweight\"\n",
    "    else:\n",
    "        category = \"Obese\"\n",
    "\n",
    "    # 4. Display the results to the user\n",
    "    print(f\"\\nYour BMI is: {bmi_rounded}\")\n",
    "    print(f\"You are in the '{category}' category.\")\n",
    "\n",
    "# Call the function to run the BMI calculator\n",
    "bmi_calculator()"
   ]
  },
  {
   "cell_type": "code",
   "execution_count": null,
   "id": "f19c147e-4157-4656-b04e-6aebb3779c70",
   "metadata": {},
   "outputs": [],
   "source": []
  }
 ],
 "metadata": {
  "kernelspec": {
   "display_name": "Python [conda env:Machinelearning]",
   "language": "python",
   "name": "conda-env-Machinelearning-py"
  },
  "language_info": {
   "codemirror_mode": {
    "name": "ipython",
    "version": 3
   },
   "file_extension": ".py",
   "mimetype": "text/x-python",
   "name": "python",
   "nbconvert_exporter": "python",
   "pygments_lexer": "ipython3",
   "version": "3.8.20"
  }
 },
 "nbformat": 4,
 "nbformat_minor": 5
}
